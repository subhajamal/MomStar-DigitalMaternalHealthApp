{
 "cells": [
  {
   "cell_type": "markdown",
   "id": "d580ead4",
   "metadata": {},
   "source": [
    "# 👩‍🍼 MomStar: Maternal Health Wearable Data Analysis\n",
    "This notebook explores simulated wearable data for pregnant patients. We analyze trends in blood pressure, glucose levels, heart rate, and sleep hours to better understand patient health patterns.\n"
   ]
  },
  {
   "cell_type": "code",
   "execution_count": null,
   "id": "b5c14a87",
   "metadata": {},
   "outputs": [],
   "source": [
    "import pandas as pd\n",
    "import matplotlib.pyplot as plt\n",
    "import seaborn as sns\n",
    "\n",
    "# Load the dataset\n",
    "df = pd.read_csv('../cleaned_data/maternal_vitals.csv')\n",
    "df['date'] = pd.to_datetime(df['date'])\n",
    "df.head()"
   ]
  },
  {
   "cell_type": "code",
   "execution_count": null,
   "id": "10c3ad71",
   "metadata": {},
   "outputs": [],
   "source": [
    "# 📈 Glucose levels over time\n",
    "plt.figure(figsize=(12,6))\n",
    "sns.lineplot(data=df, x='date', y='glucose_mg_dl', hue='patient_id')\n",
    "plt.title('Glucose Levels Over Time')\n",
    "plt.ylabel('Glucose (mg/dL)')\n",
    "plt.xlabel('Date')\n",
    "plt.grid(True)\n",
    "plt.tight_layout()\n",
    "plt.show()"
   ]
  },
  {
   "cell_type": "code",
   "execution_count": null,
   "id": "76d6d366",
   "metadata": {},
   "outputs": [],
   "source": [
    "# 🩺 Blood Pressure Trends\n",
    "fig, ax = plt.subplots(2, 1, figsize=(12, 10))\n",
    "sns.lineplot(data=df, x='date', y='systolic_bp', hue='patient_id', ax=ax[0])\n",
    "ax[0].set_title('Systolic BP Over Time')\n",
    "sns.lineplot(data=df, x='date', y='diastolic_bp', hue='patient_id', ax=ax[1])\n",
    "ax[1].set_title('Diastolic BP Over Time')\n",
    "plt.tight_layout()\n",
    "plt.show()"
   ]
  },
  {
   "cell_type": "code",
   "execution_count": null,
   "id": "23abfdf2",
   "metadata": {},
   "outputs": [],
   "source": [
    "# 💤 Sleep Patterns\n",
    "plt.figure(figsize=(12,6))\n",
    "sns.boxplot(data=df, x='patient_id', y='sleep_hours')\n",
    "plt.title('Distribution of Sleep Hours per Patient')\n",
    "plt.ylabel('Sleep Hours')\n",
    "plt.xlabel('Patient ID')\n",
    "plt.grid(True)\n",
    "plt.tight_layout()\n",
    "plt.show()"
   ]
  }
 ],
 "metadata": {},
 "nbformat": 4,
 "nbformat_minor": 5
}
